{
 "cells": [
  {
   "cell_type": "code",
   "execution_count": 0,
   "metadata": {
    "application/vnd.databricks.v1+cell": {
     "cellMetadata": {},
     "inputWidgets": {},
     "nuid": "91c33b29-b645-48cb-9ce3-c37730af8e1d",
     "showTitle": false,
     "title": ""
    }
   },
   "outputs": [],
   "source": [
    "%python\n",
    "\n",
    "\"\"\"\n",
    "Setup up some objects\n",
    "\"\"\"\n",
    "\n",
    "from pyspark.sql.functions import schema_of_json\n",
    "\n",
    "_json = \"\"\"{\n",
    "   \"store\":{\n",
    "      \"fruit\": [\n",
    "        {\"weight\":8,\"type\":\"apple\"},\n",
    "        {\"weight\":9,\"type\":\"pear\"}\n",
    "      ],\n",
    "      \"basket\":[\n",
    "        [1,2,{\"b\":\"y\",\"a\":\"x\"}],\n",
    "        [3,4],\n",
    "        [5,6]\n",
    "      ],\n",
    "      \"book\":[\n",
    "        {\n",
    "          \"author\":\"Nigel Rees\",\n",
    "          \"title\":\"Sayings of the Century\",\n",
    "          \"category\":\"reference\",\n",
    "          \"price\":8.95\n",
    "        },\n",
    "        {\n",
    "          \"author\":\"Herman Melville\",\n",
    "          \"title\":\"Moby Dick\",\n",
    "          \"category\":\"fiction\",\n",
    "          \"price\":8.99,\n",
    "          \"isbn\":\"0-553-21311-3\"\n",
    "        },\n",
    "        {\n",
    "          \"author\":\"J. R. R. Tolkien\",\n",
    "          \"title\":\"The Lord of the Rings\",\n",
    "          \"category\":\"fiction\",\n",
    "          \"reader\":[\n",
    "            {\"age\":25,\"name\":\"bob\"},\n",
    "            {\"age\":26,\"name\":\"jack\"}\n",
    "          ],\n",
    "          \"price\":22.99,\n",
    "          \"isbn\":\"0-395-19395-8\"\n",
    "        }\n",
    "      ],\n",
    "      \"bicycle\":{\n",
    "        \"price\":19.95,\n",
    "        \"color\":\"red\"\n",
    "      }\n",
    "    },\n",
    "    \"owner\":\"mark\",\n",
    "    \"zip code\":\"94025\"\n",
    " }\"\"\"\n",
    "\n",
    "# get the schema of the json\n",
    "_schema = spark.sql(f\"select schema_of_json('{_json}') as schema\").collect()[0][0]\n",
    "print(_schema)"
   ]
  },
  {
   "cell_type": "code",
   "execution_count": 0,
   "metadata": {
    "application/vnd.databricks.v1+cell": {
     "cellMetadata": {},
     "inputWidgets": {},
     "nuid": "9e4e7918-676f-4562-8f88-b5ec451bb487",
     "showTitle": false,
     "title": ""
    }
   },
   "outputs": [],
   "source": [
    "%python\n",
    "\n",
    "\"\"\"\n",
    "Create a nested json table\n",
    "Code is taken from https://docs.databricks.com/optimizations/semi-structured.html#create-a-table-with-highly-nested-data\n",
    "\"\"\"\n",
    "\n",
    "display(spark.sql(f\"\"\"CREATE OR REPLACE TABLE store_data\n",
    "    USING delta\n",
    "    TBLPROPERTIES('delta.columnMapping.mode' = 'name',\n",
    "                  'delta.minReaderVersion' = '2',\n",
    "                  'delta.minWriterVersion' = '5')\n",
    "    AS \n",
    "      SELECT from_json('{_json}', '{_schema}') as raw\n",
    " \"\"\"))"
   ]
  },
  {
   "cell_type": "code",
   "execution_count": 0,
   "metadata": {
    "application/vnd.databricks.v1+cell": {
     "cellMetadata": {},
     "inputWidgets": {},
     "nuid": "c7df5977-96b4-4d2c-9941-f48ec985240b",
     "showTitle": false,
     "title": ""
    }
   },
   "outputs": [],
   "source": [
    "%python\n",
    "\n",
    "\"\"\"\n",
    "Multiply data\n",
    "\"\"\"\n",
    "\n",
    "for i in range(10):\n",
    "  spark.sql(\"INSERT INTO store_data SELECT * FROM store_data\")"
   ]
  },
  {
   "cell_type": "code",
   "execution_count": 0,
   "metadata": {
    "application/vnd.databricks.v1+cell": {
     "cellMetadata": {},
     "inputWidgets": {},
     "nuid": "b435f895-0ee0-485f-9129-0231e86cc890",
     "showTitle": false,
     "title": ""
    }
   },
   "outputs": [],
   "source": [
    "%sql\n",
    "\n",
    "--\n",
    "-- Visualize the nested json data\n",
    "--\n",
    "\n",
    "SELECT *\n",
    "FROM store_data;"
   ]
  },
  {
   "cell_type": "code",
   "execution_count": 0,
   "metadata": {
    "application/vnd.databricks.v1+cell": {
     "cellMetadata": {},
     "inputWidgets": {},
     "nuid": "612654be-39a5-4190-ab76-2998efbd4818",
     "showTitle": false,
     "title": ""
    }
   },
   "outputs": [],
   "source": [
    "%sql\n",
    "\n",
    "--\n",
    "-- Calculate the sum of the average age for all readers\n",
    "--\n",
    "\n",
    "WITH _DATA AS (\n",
    "  SELECT explode(raw.store.book.reader.age[2]) as age,\n",
    "         books.category as category\n",
    "  FROM store_data\n",
    "  LATERAL VIEW explode(raw.store.book) as books\n",
    "  )\n",
    "  SELECT category,\n",
    "         avg(age) as average_age,\n",
    "         stddev(age) as sd_age\n",
    "  FROM _DATA\n",
    "  where lower(category) in ('reference', 'fiction')\n",
    "  group by category;"
   ]
  },
  {
   "cell_type": "code",
   "execution_count": 0,
   "metadata": {
    "application/vnd.databricks.v1+cell": {
     "cellMetadata": {},
     "inputWidgets": {},
     "nuid": "e92fe9a4-b614-450a-95ae-0851b81c3346",
     "showTitle": false,
     "title": ""
    }
   },
   "outputs": [],
   "source": [
    "%sql\n",
    "\n",
    "--\n",
    "-- Calculate the sum of the average age for all readers (no photon)\n",
    "--\n",
    "\n",
    "WITH _DATA AS (\n",
    "  SELECT explode(raw.store.book.reader.age[2]) as age,\n",
    "         books.category as category\n",
    "  FROM store_data\n",
    "  LATERAL VIEW explode(raw.store.book) as books\n",
    "  )\n",
    "  SELECT category,\n",
    "         avg(age) as average_age,\n",
    "         stddev(age) as sd_age\n",
    "  FROM _DATA\n",
    "  where lower(category) in ('reference', 'fiction')\n",
    "  group by category;"
   ]
  }
 ],
 "metadata": {
  "application/vnd.databricks.v1+notebook": {
   "dashboards": [],
   "language": "python",
   "notebookMetadata": {
    "pythonIndentUnit": 2
   },
   "notebookName": "03-When-Photon-Doesnt-Help",
   "widgets": {}
  }
 },
 "nbformat": 4,
 "nbformat_minor": 0
}
